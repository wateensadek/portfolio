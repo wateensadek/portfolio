{
 "cells": [
  {
   "cell_type": "code",
   "execution_count": 9,
   "id": "775ad8",
   "metadata": {
    "collapsed": false
   },
   "outputs": [
    {
     "name": "stdout",
     "output_type": "stream",
     "text": [
      "Wateen Sadek, Dalhousie University\n"
     ]
    }
   ],
   "source": [
    "print(\"Wateen Sadek, Dalhousie University\")"
   ]
  },
  {
   "cell_type": "code",
   "execution_count": 10,
   "id": "d910e0",
   "metadata": {
    "collapsed": false
   },
   "outputs": [
    {
     "data": {
      "text/html": [
       "<div style=\"font-family: Arial; font-weight: bold; font-size: 20px; color: blue;\">\n",
       "Wateen Sadek, Dalhousie University\n",
       "</div>"
      ],
      "text/plain": [
       "<IPython.core.display.HTML object>"
      ]
     },
     "execution_count": 10,
     "metadata": {
     },
     "output_type": "execute_result"
    }
   ],
   "source": [
    "from IPython.display import HTML\n",
    "\n",
    "styled_output = \"\"\"<div style=\"font-family: Arial; font-weight: bold; font-size: 20px; color: blue;\">\n",
    "Wateen Sadek, Dalhousie University\n",
    "</div>\"\"\"\n",
    "HTML(styled_output)"
   ]
  }
 ],
 "metadata": {
  "kernelspec": {
   "argv": [
    "/ext/jupyter/kernels/anaconda2022/launch.sh",
    "{connection_file}"
   ],
   "display_name": "Python 3 (Anaconda 2022)",
   "env": {
   },
   "language": "python",
   "metadata": {
    "cocalc": {
     "description": "Anaconda 2022.05 Python 3 environment",
     "priority": 5,
     "url": "https://www.anaconda.com/distribution/"
    }
   },
   "name": "anaconda2022",
   "resource_dir": "/ext/jupyter/kernels/anaconda2022"
  },
  "language_info": {
   "codemirror_mode": {
    "name": "ipython",
    "version": 3
   },
   "file_extension": ".py",
   "mimetype": "text/x-python",
   "name": "python",
   "nbconvert_exporter": "python",
   "pygments_lexer": "ipython3",
   "version": "3.9.15"
  }
 },
 "nbformat": 4,
 "nbformat_minor": 4
}